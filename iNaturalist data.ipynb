{
 "cells": [
  {
   "cell_type": "code",
   "execution_count": 6,
   "metadata": {},
   "outputs": [],
   "source": [
    "import pandas as pd\n",
    "import os\n",
    "\n",
    "# List of existing CSV files\n",
    "csv_files = [\n",
    "    \"L257959_bird_data.csv\", \"L207315_bird_data.csv\", \"L162766_bird_data.csv\",\n",
    "    \"L351484_bird_data.csv\", \"L321969_bird_data.csv\", \"L298030_bird_data.csv\",\n",
    "    \"L269461_bird_data.csv\", \"L232479_bird_data.csv\", \"L128530_bird_data.csv\"\n",
    "]\n",
    "\n",
    "# Load files into DataFrames\n",
    "dataframes = {file: pd.read_csv(file) for file in csv_files}"
   ]
  },
  {
   "cell_type": "code",
   "execution_count": 10,
   "metadata": {},
   "outputs": [],
   "source": [
    "import requests\n",
    "\n",
    "# iNaturalist API endpoint\n",
    "url = \"https://api.inaturalist.org/v1/observations\"\n",
    "\n",
    "# Function to fetch iNaturalist data for a specific location\n",
    "def fetch_inat_data(lat, lng, radius=5, start_date=None, end_date=None):\n",
    "    params = {\n",
    "        \"lat\": lat,\n",
    "        \"lng\": lng,\n",
    "        \"radius\": 1,  # Radius in kilometers\n",
    "        \"d1\": start_date,  # Start date\n",
    "        \"d2\": end_date,    # End date\n",
    "        \"taxon_id\": 3,     # Taxon ID for birds\n",
    "        \"per_page\": 100,\n",
    "        \"page\": 1\n",
    "    }\n",
    "    observations = []\n",
    "    while True:\n",
    "        response = requests.get(url, params=params)\n",
    "        data = response.json()\n",
    "        \n",
    "        # Break if no results\n",
    "        if not data[\"results\"]:\n",
    "            break\n",
    "        \n",
    "        # Extract relevant fields\n",
    "        for obs in data[\"results\"]:\n",
    "            observations.append({\n",
    "                \"Species\": obs[\"taxon\"][\"name\"],\n",
    "                \"Location\": obs[\"place_guess\"],\n",
    "                \"Latitude\": obs[\"geojson\"][\"coordinates\"][1],\n",
    "                \"Longitude\": obs[\"geojson\"][\"coordinates\"][0],\n",
    "                \"Observation Date\": obs[\"observed_on\"],\n",
    "                \"Count\": obs.get(\"individual_count\", \"N/A\"),\n",
    "            })\n",
    "        \n",
    "        # Go to the next page\n",
    "        params[\"page\"] += 1\n",
    "    return pd.DataFrame(observations)\n",
    "\n",
    "# Example: Fetch data for a location\n",
    "lat, lng = 47.6621, -122.1234  # Example latitude and longitude\n",
    "new_data = fetch_inat_data(lat, lng, start_date=\"2023-01-01\", end_date=\"2023-12-31\")"
   ]
  },
  {
   "cell_type": "code",
   "execution_count": 11,
   "metadata": {},
   "outputs": [
    {
     "name": "stdout",
     "output_type": "stream",
     "text": [
      "Updated L257959_bird_data.csv with 104 new records.\n",
      "Updated L207315_bird_data.csv with 163 new records.\n",
      "Updated L162766_bird_data.csv with 4277 new records.\n",
      "Updated L351484_bird_data.csv with 673 new records.\n",
      "Updated L321969_bird_data.csv with 549 new records.\n",
      "Updated L298030_bird_data.csv with 1518 new records.\n",
      "Updated L269461_bird_data.csv with 1001 new records.\n",
      "Updated L232479_bird_data.csv with 912 new records.\n",
      "Updated L128530_bird_data.csv with 1029 new records.\n"
     ]
    }
   ],
   "source": [
    "from datetime import datetime\n",
    "\n",
    "# Function to update a CSV file with new observations\n",
    "def update_csv(file, dataframe):\n",
    "    # Extract latitude and longitude from the first row of the DataFrame\n",
    "    lat, lng = dataframe[\"Latitude\"].iloc[0], dataframe[\"Longitude\"].iloc[0]\n",
    "    \n",
    "    # Fetch new data for the location\n",
    "    today = datetime.now().strftime(\"%Y-%m-%d\")\n",
    "    new_data = fetch_inat_data(lat, lng, start_date=\"2023-01-01\", end_date=today)\n",
    "    \n",
    "    # Append new data to the existing DataFrame\n",
    "    updated_data = pd.concat([dataframe, new_data], ignore_index=True)\n",
    "    \n",
    "    # Drop duplicates based on Species and Observation Date\n",
    "    updated_data.drop_duplicates(subset=[\"Species\", \"Observation Date\"], inplace=True)\n",
    "    \n",
    "    # Save the updated DataFrame back to the CSV\n",
    "    updated_data.to_csv(file, index=False)\n",
    "    print(f\"Updated {file} with {len(new_data)} new records.\")\n",
    "\n",
    "# Update each CSV\n",
    "for file, df in dataframes.items():\n",
    "    update_csv(file, df)"
   ]
  },
  {
   "cell_type": "code",
   "execution_count": 12,
   "metadata": {},
   "outputs": [
    {
     "name": "stdout",
     "output_type": "stream",
     "text": [
      "L257959_bird_data.csv: 112 records after update.\n",
      "L207315_bird_data.csv: 157 records after update.\n",
      "L162766_bird_data.csv: 3255 records after update.\n",
      "L351484_bird_data.csv: 581 records after update.\n",
      "L321969_bird_data.csv: 477 records after update.\n",
      "L298030_bird_data.csv: 1223 records after update.\n",
      "L269461_bird_data.csv: 909 records after update.\n",
      "L232479_bird_data.csv: 788 records after update.\n",
      "L128530_bird_data.csv: 871 records after update.\n"
     ]
    }
   ],
   "source": [
    "for file in csv_files:\n",
    "    updated_df = pd.read_csv(file)\n",
    "    print(f\"{file}: {len(updated_df)} records after update.\")"
   ]
  },
  {
   "cell_type": "code",
   "execution_count": 13,
   "metadata": {},
   "outputs": [
    {
     "name": "stdout",
     "output_type": "stream",
     "text": [
      "L257959_bird_data.csv has 112 rows.\n",
      "L207315_bird_data.csv has 157 rows.\n",
      "L162766_bird_data.csv has 3255 rows.\n",
      "L351484_bird_data.csv has 581 rows.\n",
      "L321969_bird_data.csv has 477 rows.\n",
      "L298030_bird_data.csv has 1223 rows.\n",
      "L269461_bird_data.csv has 909 rows.\n",
      "L232479_bird_data.csv has 788 rows.\n",
      "L128530_bird_data.csv has 871 rows.\n"
     ]
    }
   ],
   "source": [
    "# Check number of rows in each file\n",
    "for file in csv_files:\n",
    "    df = pd.read_csv(file)  # Load CSV into DataFrame\n",
    "    num_rows = df.shape[0]  # Get number of rows\n",
    "    print(f\"{file} has {num_rows} rows.\")"
   ]
  },
  {
   "cell_type": "code",
   "execution_count": 14,
   "metadata": {},
   "outputs": [
    {
     "name": "stdout",
     "output_type": "stream",
     "text": [
      "Updated L257959_bird_data.csv by removing 'Count' column.\n",
      "Updated L207315_bird_data.csv by removing 'Count' column.\n",
      "Updated L162766_bird_data.csv by removing 'Count' column.\n",
      "Updated L351484_bird_data.csv by removing 'Count' column.\n",
      "Updated L321969_bird_data.csv by removing 'Count' column.\n",
      "Updated L298030_bird_data.csv by removing 'Count' column.\n",
      "Updated L269461_bird_data.csv by removing 'Count' column.\n",
      "Updated L232479_bird_data.csv by removing 'Count' column.\n",
      "Updated L128530_bird_data.csv by removing 'Count' column.\n"
     ]
    }
   ],
   "source": [
    "# Loop through each CSV file to remove the specified columns\n",
    "for file in csv_files:\n",
    "    df = pd.read_csv(file)  # Load CSV into DataFrame\n",
    "    \n",
    "    # Check if columns exist before dropping to avoid errors\n",
    "    if 'Count' in df.columns:\n",
    "        df = df.drop(columns=['Count'])\n",
    "    \n",
    "    # Save the updated DataFrame back to the CSV\n",
    "    df.to_csv(file, index=False)\n",
    "    print(f\"Updated {file} by removing 'Count' column.\")"
   ]
  }
 ],
 "metadata": {
  "kernelspec": {
   "display_name": "Python 3",
   "language": "python",
   "name": "python3"
  },
  "language_info": {
   "codemirror_mode": {
    "name": "ipython",
    "version": 3
   },
   "file_extension": ".py",
   "mimetype": "text/x-python",
   "name": "python",
   "nbconvert_exporter": "python",
   "pygments_lexer": "ipython3",
   "version": "3.13.0"
  }
 },
 "nbformat": 4,
 "nbformat_minor": 2
}
